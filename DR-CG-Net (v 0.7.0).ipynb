{
 "cells": [
  {
   "cell_type": "markdown",
   "id": "b605c267",
   "metadata": {},
   "source": [
    "DR-CG-Net (v 0.7.0)\n",
    "\n",
    "Created by Carter Lyons\n",
    "\n",
    "Last Updated 9/13/2023\n",
    "\n",
    "* Seperated configuring network into seperate (config.py) file"
   ]
  },
  {
   "cell_type": "markdown",
   "id": "ae82c25c",
   "metadata": {},
   "source": [
    "# Create a DR-CG-Net for testing and visualization"
   ]
  },
  {
   "cell_type": "code",
   "execution_count": 1,
   "id": "9a61ae65",
   "metadata": {},
   "outputs": [],
   "source": [
    "import tensorflow as tf\n",
    "import tensorflow.keras.initializers as Init\n",
    "import os\n",
    "import numpy as np\n",
    "import pandas as pd\n",
    "import matplotlib.pyplot as plt\n",
    "from config import conf\n",
    "from utils import LoadMatrices"
   ]
  },
  {
   "cell_type": "code",
   "execution_count": 2,
   "id": "f8afb7ae",
   "metadata": {},
   "outputs": [],
   "source": [
    "img_size = 32\n",
    "msmnt_type = 'angles'\n",
    "msmnt = 15\n",
    "noise = 60\n",
    "num_training_samples = 20\n",
    "load_weights = True # de-/activates loading trained network weights\n",
    "Load = LoadMatrices.Load()"
   ]
  },
  {
   "cell_type": "code",
   "execution_count": 3,
   "id": "63bdd3bf",
   "metadata": {},
   "outputs": [],
   "source": [
    "Psi = Load.load_Psi(img_size, msmnt, msmnt_type)\n",
    "Phi, Phi_Wavelet = Load.load_Phi(img_size, conf.train.use_sparsity, conf.train.sparsity_type, conf.data.true_data_type)\n",
    "A = tf.constant(Psi, dtype = 'float32') if Phi is None else tf.constant(Psi@Phi, dtype = 'float32')\n",
    "if 'GDu' in conf.model.method:\n",
    "    A_norm = tf.linalg.norm(A, ord=2)\n",
    "    A = tf.sparse.from_dense(A)"
   ]
  },
  {
   "cell_type": "code",
   "execution_count": 4,
   "id": "0247e21b",
   "metadata": {},
   "outputs": [],
   "source": [
    "# Create Network\n",
    "import tensorflow.keras.initializers as Init\n",
    "if 'GDu' in conf.model.method:\n",
    "    from networks import NewDRCGNetSparseGDu as Net\n",
    "else:\n",
    "    from networks import NewDRCGNet as Net\n",
    "\n",
    "cov_params = {'const': [Init.Constant(conf.model.lamb_init[noise])],\n",
    "              'diag': [Init.Constant(conf.model.lamb_init[noise])],\n",
    "              'tridiag': [Init.Constant(conf.model.lamb_init[noise]), Init.Constant(0.0), 'SRDD']\n",
    "             }\n",
    "if conf.model.cov_style == 'full':\n",
    "    n = img_size**2\n",
    "    Q = np.zeros((n*(n+1)//2,))\n",
    "    indx = np.array([i*(n+1)+1 for i in range(n-n//2)]+[i*(n+1) for i in range(n-n//2-n%2, 0, -1)])-1\n",
    "    Q[indx] = conf.model.lamb_init[noise]*np.ones(n)\n",
    "    cov_params[conf.model.cov_style] = [Init.Constant(Q), 'DEFAULT'] \n",
    "    del Q \n",
    "\n",
    "if 'GDu' in conf.model.method:\n",
    "    model = Net.DRCGNet(\n",
    "          conf.model.K, \n",
    "          conf.model.J, \n",
    "          conf.model.GDsteps,\n",
    "          A, \n",
    "          A_norm,\n",
    "          img_size, \n",
    "          conf.model.CNN_option, \n",
    "          cov_params[conf.model.cov_style], \n",
    "          conf.model.cov_style,\n",
    "          scale_cov = conf.model.scale_cov,\n",
    "          u0_style = conf.model.u0_style, \n",
    "          normalize_init = conf.model.normalize_A_in_z0,\n",
    "          b = conf.model.b,\n",
    "          D = conf.model.D,\n",
    "          filters = conf.model.num_filters,\n",
    "          kernel_size = conf.model.kernel_size,\n",
    "          eta = conf.model.step_size,\n",
    "          normalize_grad = conf.model.normalize_grad,\n",
    "          B = conf.model.B,\n",
    "          eps = conf.model.epsilon,                      \n",
    "          bias = conf.model.use_bias,\n",
    "          project = conf.model.project_z_est,\n",
    "          denoise = conf.model.use_refinement,\n",
    "          shared_u_weights = conf.model.shared_u_weights)\n",
    "else:\n",
    "    model = Net.DRCGNet(\n",
    "              conf.model.K, \n",
    "              conf.model.J, \n",
    "              A, \n",
    "              img_size, \n",
    "              conf.model.CNN_option, \n",
    "              cov_params[conf.model.cov_style], \n",
    "              conf.model.cov_style,\n",
    "              scale_cov = conf.model.scale_cov,\n",
    "              u0_style = conf.model.u0_style, \n",
    "              normalize_init = conf.model.normalize_A_in_z0,\n",
    "              b = conf.model.b,\n",
    "              D = conf.model.D,\n",
    "              filters = conf.model.num_filters,\n",
    "              kernel_size = conf.model.kernel_size,\n",
    "              eta = conf.model.step_size,\n",
    "              normalize_grad = conf.model.normalize_grad,\n",
    "              B = conf.model.B,\n",
    "              eps = conf.model.epsilon,                      \n",
    "              bias = conf.model.use_bias,\n",
    "              project = conf.model.project_z_est,\n",
    "              denoise = conf.model.use_refinement)\n",
    "\n",
    "model = model.call()"
   ]
  },
  {
   "cell_type": "code",
   "execution_count": null,
   "id": "82b55d79",
   "metadata": {},
   "outputs": [],
   "source": [
    "# model.summary()"
   ]
  },
  {
   "cell_type": "code",
   "execution_count": 10,
   "id": "2fa6c3dd",
   "metadata": {},
   "outputs": [],
   "source": [
    "if load_weights:\n",
    "    if img_size == 32:\n",
    "        model.load_weights(os.path.join('Weights', '{}_{}{}_{}dB_{}_samples.h5'.format(conf.general.SaveName, msmnt, msmnt_type, noise, num_training_samples)))\n",
    "    else:\n",
    "        model.load_weights(os.path.join('Weights', '{}_{}{}_{}dB_{}_samples_{}_imgsize.h5'.format(conf.general.SaveName, msmnt, msmnt_type, noise, num_training_samples, img_size)))"
   ]
  },
  {
   "cell_type": "code",
   "execution_count": 5,
   "id": "b1573a6f",
   "metadata": {},
   "outputs": [],
   "source": [
    "# Load test dataset\n",
    "path_to_test_data = os.path.join('Test Datasets', '{}x{}_{}{}_{}dB_test_data.csv'.format(img_size, img_size, msmnt, msmnt_type, noise))\n",
    "test_data = pd.read_csv(path_to_test_data)\n",
    "test_data.drop(test_data.columns[0], axis = 1, inplace = True)\n",
    "test_data = np.array(test_data)"
   ]
  },
  {
   "cell_type": "code",
   "execution_count": 6,
   "id": "23e8a488",
   "metadata": {},
   "outputs": [],
   "source": [
    "# Reconstruct Examples\n",
    "i = 0\n",
    "batch_size = 2\n",
    "m, n = tf.shape(A)\n",
    "sample = test_data[i:i+batch_size]\n",
    "c_act, y = sample[:,m:], sample[:,:m]\n",
    "I_act = tf.constant(np.reshape(c_act, (batch_size, img_size, img_size, 1)), dtype = 'float32') if Phi_Wavelet is None else tf.constant(np.reshape(c_act@Phi_Wavelet.T, (batch_size, img_size, img_size, 1)), dtype = 'float32')\n",
    "x_est = model(y)\n",
    "x_est = tf.reshape(x_est, (batch_size, img_size, img_size, 1)) if Phi is None else tf.reshape(x_est@tf.cast(tf.transpose(Phi), dtype = 'float32'), (batch_size, img_size, img_size, 1)) \n",
    "ssims = tf.image.ssim(I_act, x_est, max_val = conf.data.scale)\n",
    "psnrs = tf.image.psnr(I_act, x_est, max_val = conf.data.scale)"
   ]
  },
  {
   "cell_type": "code",
   "execution_count": 8,
   "id": "e3dec9d8",
   "metadata": {},
   "outputs": [],
   "source": [
    "# Display examples\n",
    "i = 1\n",
    "\n",
    "fig,axes = plt.subplots(1,2)\n",
    "\n",
    "axes[0].imshow(np.reshape(x_est[i], (img_size,img_size)), cmap = 'gray')\n",
    "axes[0].set_xlabel('Estimate')\n",
    "\n",
    "axes[1].imshow(np.reshape(I_act[i], (img_size, img_size)), cmap = 'gray')\n",
    "axes[1].set_xlabel('Actual')\n",
    "\n",
    "plt.show()\n",
    "print('SSIM {:.5f} & PSNR {:.3f}'.format(ssims[i], psnrs[i]))"
   ]
  },
  {
   "cell_type": "markdown",
   "id": "bf98a1d9",
   "metadata": {},
   "source": [
    "# MultiRun\n",
    "\n",
    "Creates, trains, and tests multiple DR-CG-Nets"
   ]
  },
  {
   "cell_type": "code",
   "execution_count": 1,
   "id": "f0e14fb7",
   "metadata": {},
   "outputs": [],
   "source": [
    "import tensorflow as tf\n",
    "\n",
    "from config import conf\n",
    "from utils import MultiRun\n",
    "if 'GDu' in conf.model.method:\n",
    "    from networks import NewDRCGNetSparseGDu as Net\n",
    "else:\n",
    "    from networks import NewDRCGNet as Net"
   ]
  },
  {
   "cell_type": "code",
   "execution_count": 3,
   "id": "a954b7d6",
   "metadata": {},
   "outputs": [],
   "source": [
    "img_size = 32  # 32 or 64\n",
    "\n",
    "# For Radon inversion experiments\n",
    "msmnt_type = 'angles'\n",
    "msmnt_list = [15]  # List of the number of angles used in the radon transform.\n",
    "noise_list = [[60], [60], [60]]  # Measurement SNR in dB. Should be a list of lists. noise_list[i][j] = measurement SNR to train a DR-CG-Net with for msmnt_list[i] number of angles.\n",
    "training_list = [[[20]], [[20, 100]], [[20, 100]]]  # Number of samples to train with. Should be triple nested lists. training_list[i][j][k] = number of samples to train a DR-CG-Net with for noise_list[i][j] measurement SNR and msmsnt_list[i] number of angles.\n",
    "epoch_list = [[[2000]], [[2000, 2000]], [[2000, 2000]]]  # Maximum number of training epochs. Should be triple nest lists. epoch_list[i][j][k] = maximum number of epochs for training a DR-CG-Net using training_list[i][j][k] samples with noise_list[i][j] measurement SNR and msmsnt_list[i] number of angles.\n",
    "\n",
    "# # For CS experiments\n",
    "# msmnt_type = 'ratio'\n",
    "# msmnt_list = [10,30,50]  # List of the sampling ratios (x 100) used in the Gaussian matrix\n",
    "# noise_list = [[60],[60],[60]]\n",
    "# training_list = [[[20]],[[20]],[[20]]]\n",
    "# epoch_list = [[[2000]],[[2000]],[[2000]]]\n",
    "\n",
    "mr = MultiRun.MultiRun(Net.DRCGNet, Net.Grad())\n",
    "mr.call(img_size, msmnt_list, noise_list, training_list, epoch_list, msmnt_type)"
   ]
  },
  {
   "cell_type": "code",
   "execution_count": null,
   "id": "1670eb76",
   "metadata": {},
   "outputs": [],
   "source": []
  }
 ],
 "metadata": {
  "kernelspec": {
   "display_name": "oldtf",
   "language": "python",
   "name": "oldtf"
  },
  "language_info": {
   "codemirror_mode": {
    "name": "ipython",
    "version": 3
   },
   "file_extension": ".py",
   "mimetype": "text/x-python",
   "name": "python",
   "nbconvert_exporter": "python",
   "pygments_lexer": "ipython3",
   "version": "3.9.12"
  }
 },
 "nbformat": 4,
 "nbformat_minor": 5
}
